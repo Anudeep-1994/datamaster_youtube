{
 "cells": [
  {
   "cell_type": "code",
   "execution_count": 0,
   "metadata": {
    "application/vnd.databricks.v1+cell": {
     "cellMetadata": {},
     "inputWidgets": {},
     "nuid": "c5b312ed-7ee9-4c13-a06c-aa1af8b7e049",
     "showTitle": false,
     "tableResultSettingsMap": {},
     "title": ""
    }
   },
   "outputs": [],
   "source": [
    "%python\n",
    "https://docs.databricks.com/aws/en/database-objects"
   ]
  },
  {
   "cell_type": "markdown",
   "metadata": {
    "application/vnd.databricks.v1+cell": {
     "cellMetadata": {},
     "inputWidgets": {},
     "nuid": "7f6301d1-4f6a-48c0-a5e2-fb74adf4f888",
     "showTitle": false,
     "tableResultSettingsMap": {},
     "title": ""
    }
   },
   "source": [
    "- Catalog: The top level container, contains schemas. See What are catalogs in Databricks?.\n",
    "- Schema or database: Contains data objects. See What are schemas in Databricks?.\n",
    "- Data objects that can be contained in a schema:\n",
    "- Volume: a logical volume of non-tabular data in cloud object storage. See What are Unity Catalog volumes?.\n",
    "- Table: a collection of data organized by rows and columns. See What is a table?.\n",
    "- View: a saved query against one or more tables. See What is a view?.\n",
    "- Function: saved logic that returns a scalar value or set of rows. See User-defined functions (UDFs) in Unity Catalog.\n",
    "- Model: a machine learning model packaged with MLflow. See Manage model lifecycle in Unity Catalog."
   ]
  },
  {
   "cell_type": "markdown",
   "metadata": {
    "application/vnd.databricks.v1+cell": {
     "cellMetadata": {},
     "inputWidgets": {},
     "nuid": "6c12fda2-b751-40bf-9fc9-5ecd68eab130",
     "showTitle": false,
     "tableResultSettingsMap": {},
     "title": ""
    }
   },
   "source": [
    "![](/Volumes/datamaster/bronze/images/object-model-0ed879da6c005615e8a00db9bb10823c.png)"
   ]
  },
  {
   "cell_type": "code",
   "execution_count": 0,
   "metadata": {
    "application/vnd.databricks.v1+cell": {
     "cellMetadata": {
      "byteLimit": 2048000,
      "rowLimit": 10000
     },
     "inputWidgets": {},
     "nuid": "91dcc10c-2a9b-4c7e-bfa4-052031000509",
     "showTitle": false,
     "tableResultSettingsMap": {},
     "title": ""
    }
   },
   "outputs": [],
   "source": [
    "use catalog datamaster;"
   ]
  },
  {
   "cell_type": "code",
   "execution_count": 0,
   "metadata": {
    "application/vnd.databricks.v1+cell": {
     "cellMetadata": {
      "byteLimit": 2048000,
      "rowLimit": 10000
     },
     "inputWidgets": {},
     "nuid": "f89a6aa0-1874-40ce-a67d-f2c721f6e02b",
     "showTitle": false,
     "tableResultSettingsMap": {},
     "title": ""
    }
   },
   "outputs": [],
   "source": [
    "create schema if not exists datamaster.bronze; "
   ]
  },
  {
   "cell_type": "code",
   "execution_count": 0,
   "metadata": {
    "application/vnd.databricks.v1+cell": {
     "cellMetadata": {
      "byteLimit": 2048000,
      "rowLimit": 10000
     },
     "inputWidgets": {},
     "nuid": "2fb6c371-9260-43be-ad85-1dc85f16b7c2",
     "showTitle": false,
     "tableResultSettingsMap": {},
     "title": ""
    }
   },
   "outputs": [],
   "source": [
    "create table datamaster.bronze.test (id int, name string, age int);\n",
    "insert into datamaster.bronze.test values (1,'Naval',33)"
   ]
  },
  {
   "cell_type": "code",
   "execution_count": 0,
   "metadata": {
    "application/vnd.databricks.v1+cell": {
     "cellMetadata": {
      "byteLimit": 2048000,
      "rowLimit": 10000
     },
     "inputWidgets": {},
     "nuid": "8e48d593-2c57-479d-a326-6479bb9bbb88",
     "showTitle": false,
     "tableResultSettingsMap": {},
     "title": ""
    }
   },
   "outputs": [],
   "source": [
    "select * from datamaster.bronze.test"
   ]
  },
  {
   "cell_type": "markdown",
   "metadata": {
    "application/vnd.databricks.v1+cell": {
     "cellMetadata": {},
     "inputWidgets": {},
     "nuid": "a11583af-5ef6-421d-a620-1939345c3f73",
     "showTitle": false,
     "tableResultSettingsMap": {},
     "title": ""
    }
   },
   "source": [
    "### Functions"
   ]
  },
  {
   "cell_type": "code",
   "execution_count": 0,
   "metadata": {
    "application/vnd.databricks.v1+cell": {
     "cellMetadata": {
      "byteLimit": 2048000,
      "rowLimit": 10000
     },
     "inputWidgets": {},
     "nuid": "9118759d-df12-4c73-bbe2-d4e9ebd05d58",
     "showTitle": false,
     "tableResultSettingsMap": {},
     "title": ""
    }
   },
   "outputs": [],
   "source": [
    "use catalog datamaster;\n",
    "use schema bronze;\n",
    "-- creating a table\n",
    "CREATE OR REPLACE TABLE customer_reviews (\n",
    "    customer_id INT,\n",
    "    first_name STRING,\n",
    "    last_name STRING,\n",
    "    review STRING\n",
    ");\n",
    "\n",
    "INSERT INTO customer_reviews VALUES\n",
    "(1, 'John', 'Doe', 'Amazing product! I love it.'),\n",
    "(2, 'Jane', 'Smith', 'Not good, I am disappointed.'),\n",
    "(3, 'Alice', 'Brown', 'Decent quality but can be better.'),\n",
    "(4, 'Bob', 'Johnson', 'Fantastic service! Highly recommend.'),\n",
    "(5, 'Charlie', 'Davis', 'Terrible experience, never buying again.');"
   ]
  },
  {
   "cell_type": "code",
   "execution_count": 0,
   "metadata": {
    "application/vnd.databricks.v1+cell": {
     "cellMetadata": {
      "byteLimit": 2048000,
      "rowLimit": 10000
     },
     "inputWidgets": {},
     "nuid": "837fd237-dc0a-4f3a-9707-f2cb0d914501",
     "showTitle": false,
     "tableResultSettingsMap": {},
     "title": ""
    }
   },
   "outputs": [],
   "source": [
    "select * from datamaster.bronze.customer_reviews"
   ]
  },
  {
   "cell_type": "code",
   "execution_count": 0,
   "metadata": {
    "application/vnd.databricks.v1+cell": {
     "cellMetadata": {},
     "inputWidgets": {},
     "nuid": "e97aa875-0450-49c4-b87f-64f641368c54",
     "showTitle": true,
     "tableResultSettingsMap": {},
     "title": "syntax for UDF"
    }
   },
   "outputs": [],
   "source": [
    "create function function_name(para datatype)\n",
    "returns datatype\n",
    "return logic"
   ]
  },
  {
   "cell_type": "code",
   "execution_count": 0,
   "metadata": {
    "application/vnd.databricks.v1+cell": {
     "cellMetadata": {
      "byteLimit": 2048000,
      "rowLimit": 10000
     },
     "inputWidgets": {},
     "nuid": "e50c8037-9ff0-4d85-b1be-05e398721ae4",
     "showTitle": true,
     "tableResultSettingsMap": {},
     "title": "full name udf"
    }
   },
   "outputs": [],
   "source": [
    "create function datamaster.bronze.full_name_udf(first_name string, last_name string)\n",
    "returns string\n",
    "return first_name || ' ' || last_name;"
   ]
  },
  {
   "cell_type": "code",
   "execution_count": 0,
   "metadata": {
    "application/vnd.databricks.v1+cell": {
     "cellMetadata": {
      "byteLimit": 2048000,
      "rowLimit": 10000
     },
     "inputWidgets": {},
     "nuid": "6f5cccc1-5043-4faa-bb72-036a475b98fa",
     "showTitle": true,
     "tableResultSettingsMap": {},
     "title": "usage"
    }
   },
   "outputs": [],
   "source": [
    "select customer_id, datamaster.bronze.full_name_udf(first_name, last_name) as full_name, review from datamaster.bronze.customer_reviews"
   ]
  },
  {
   "cell_type": "code",
   "execution_count": 0,
   "metadata": {
    "application/vnd.databricks.v1+cell": {
     "cellMetadata": {
      "byteLimit": 2048000,
      "rowLimit": 10000
     },
     "inputWidgets": {},
     "nuid": "7df9d795-cc80-4dfb-b7c5-17b67c32d788",
     "showTitle": false,
     "tableResultSettingsMap": {},
     "title": ""
    }
   },
   "outputs": [],
   "source": [
    "-- Create a complex UDF for sentiment analysis\n",
    "CREATE FUNCTION datamaster.bronze.sentiment_analysis(review STRING)\n",
    "RETURNS STRING\n",
    "RETURN \n",
    "    CASE \n",
    "        WHEN review LIKE '%amazing%' OR review LIKE '%love%' OR review LIKE '%fantastic%' OR review LIKE '%recommend%' THEN 'Positive'\n",
    "        WHEN review LIKE '%not good%' OR review LIKE '%disappointed%' OR review LIKE '%terrible%' OR review LIKE '%never buying%' THEN 'Negative'\n",
    "        ELSE 'Neutral'\n",
    "    END;\n"
   ]
  },
  {
   "cell_type": "code",
   "execution_count": 0,
   "metadata": {
    "application/vnd.databricks.v1+cell": {
     "cellMetadata": {
      "byteLimit": 2048000,
      "rowLimit": 10000
     },
     "inputWidgets": {},
     "nuid": "4f781e87-81bb-40dd-950c-b2f3b1220edf",
     "showTitle": false,
     "tableResultSettingsMap": {},
     "title": ""
    }
   },
   "outputs": [],
   "source": [
    "select customer_id, review, datamaster.bronze.sentiment_analysis(review) as sentiment from datamaster.bronze.customer_reviews"
   ]
  },
  {
   "cell_type": "markdown",
   "metadata": {
    "application/vnd.databricks.v1+cell": {
     "cellMetadata": {},
     "inputWidgets": {},
     "nuid": "b212384e-2eed-4e2a-9126-67f34910db88",
     "showTitle": false,
     "tableResultSettingsMap": {},
     "title": ""
    }
   },
   "source": [
    "## Views\n",
    "- Virtual Tables\n",
    "- 1.Standard view: persisted( saved )\n",
    "- 2.Temp view/ Global Temp view"
   ]
  },
  {
   "cell_type": "code",
   "execution_count": 0,
   "metadata": {
    "application/vnd.databricks.v1+cell": {
     "cellMetadata": {
      "byteLimit": 2048000,
      "rowLimit": 10000
     },
     "inputWidgets": {},
     "nuid": "9b98f54e-29c3-436f-a71b-62f3957480e7",
     "showTitle": false,
     "tableResultSettingsMap": {},
     "title": ""
    }
   },
   "outputs": [],
   "source": [
    "create schema if not exists datamaster.silver; \n",
    "create schema if not exists datamaster.gold;"
   ]
  },
  {
   "cell_type": "code",
   "execution_count": 0,
   "metadata": {
    "application/vnd.databricks.v1+cell": {
     "cellMetadata": {
      "byteLimit": 2048000,
      "rowLimit": 10000
     },
     "inputWidgets": {},
     "nuid": "5f020e77-1079-4f81-a0e2-367a841846bf",
     "showTitle": false,
     "tableResultSettingsMap": {},
     "title": ""
    }
   },
   "outputs": [],
   "source": [
    "create or replace view datamaster.silver.customer_sentiment as \n",
    "select customer_id, review, datamaster.bronze.sentiment_analysis(review) as sentiment from datamaster.bronze.customer_reviews"
   ]
  },
  {
   "cell_type": "code",
   "execution_count": 0,
   "metadata": {
    "application/vnd.databricks.v1+cell": {
     "cellMetadata": {
      "byteLimit": 2048000,
      "rowLimit": 10000
     },
     "inputWidgets": {},
     "nuid": "eadfe586-cb29-4ec7-aaa7-5ae475bc0934",
     "showTitle": false,
     "tableResultSettingsMap": {},
     "title": ""
    }
   },
   "outputs": [],
   "source": [
    "select * from datamaster.silver.customer_sentiment"
   ]
  },
  {
   "cell_type": "code",
   "execution_count": 0,
   "metadata": {
    "application/vnd.databricks.v1+cell": {
     "cellMetadata": {
      "byteLimit": 2048000,
      "rowLimit": 10000
     },
     "inputWidgets": {},
     "nuid": "62a69042-f18e-45e1-93e9-60678645ead9",
     "showTitle": false,
     "tableResultSettingsMap": {},
     "title": ""
    }
   },
   "outputs": [],
   "source": [
    "create or replace view datamaster.gold.customer_sentiment as\n",
    "SELECT \n",
    "    datamaster.bronze.sentiment_analysis(review) AS sentiment, \n",
    "    COUNT(*) AS count \n",
    "FROM datamaster.bronze.customer_reviews\n",
    "GROUP BY sentiment_analysis(review)"
   ]
  },
  {
   "cell_type": "code",
   "execution_count": 0,
   "metadata": {
    "application/vnd.databricks.v1+cell": {
     "cellMetadata": {
      "byteLimit": 2048000,
      "rowLimit": 10000
     },
     "inputWidgets": {},
     "nuid": "765e6732-8645-4c4f-9cbc-4b0ae1198d2c",
     "showTitle": false,
     "tableResultSettingsMap": {},
     "title": ""
    }
   },
   "outputs": [
    {
     "output_type": "display_data",
     "data": {
      "text/plain": [
       "Databricks visualization. Run in Databricks to view."
      ]
     },
     "metadata": {
      "application/vnd.databricks.v1.subcommand+json": {
       "baseErrorDetails": null,
       "bindings": {},
       "collapsed": false,
       "command": "%sql WITH q AS (select * from datamaster.gold.customer_sentiment) SELECT `sentiment`,SUM(`count`) `column_e39fccae64` FROM q GROUP BY `sentiment`",
       "commandTitle": "Visualization 1",
       "commandType": "auto",
       "commandVersion": 0,
       "commentThread": [],
       "commentsVisible": false,
       "contentSha256Hex": null,
       "customPlotOptions": {
        "redashChart": [
         {
          "key": "type",
          "value": "CHART"
         },
         {
          "key": "options",
          "value": {
           "alignYAxesAtZero": true,
           "coefficient": 1,
           "columnConfigurationMap": {
            "x": {
             "column": "sentiment",
             "id": "column_e39fccae63"
            },
            "y": [
             {
              "column": "count",
              "id": "column_e39fccae64",
              "transform": "SUM"
             }
            ]
           },
           "dateTimeFormat": "DD/MM/YYYY HH:mm",
           "direction": {
            "type": "counterclockwise"
           },
           "error_y": {
            "type": "data",
            "visible": true
           },
           "globalSeriesType": "column",
           "isAggregationOn": true,
           "legend": {
            "traceorder": "normal"
           },
           "missingValuesAsZero": true,
           "numberFormat": "0,0.[00000]",
           "percentFormat": "0[.]00%",
           "series": {
            "error_y": {
             "type": "data",
             "visible": true
            },
            "stacking": null
           },
           "seriesOptions": {
            "column_e39fccae64": {
             "color": "#8BCAE7",
             "name": "count",
             "yAxis": 0
            }
           },
           "showDataLabels": true,
           "sizemode": "diameter",
           "sortX": true,
           "sortY": true,
           "swappedAxes": false,
           "textFormat": "",
           "useAggregationsUi": true,
           "valuesOptions": {},
           "version": 2,
           "xAxis": {
            "labels": {
             "enabled": true
            },
            "type": "-"
           },
           "yAxis": [
            {
             "type": "-"
            },
            {
             "opposite": true,
             "type": "-"
            }
           ]
          }
         }
        ]
       },
       "datasetPreviewNameToCmdIdMap": {},
       "diffDeletes": [],
       "diffInserts": [],
       "displayType": "redashChart",
       "error": null,
       "errorDetails": null,
       "errorSummary": null,
       "errorTraceType": null,
       "finishTime": 0,
       "globalVars": {},
       "guid": "",
       "height": "auto",
       "hideCommandCode": false,
       "hideCommandResult": false,
       "iPythonMetadata": null,
       "inputWidgets": {},
       "isLockedInExamMode": false,
       "latestUser": "a user",
       "latestUserId": null,
       "listResultMetadata": null,
       "metadata": {},
       "nuid": "7f4a9fd5-d0d9-4dd1-9ea9-f6fb50fbc4d3",
       "origId": 0,
       "parentHierarchy": [],
       "pivotAggregation": null,
       "pivotColumns": null,
       "position": 17.0,
       "resultDbfsErrorMessage": null,
       "resultDbfsStatus": "INLINED_IN_TREE",
       "results": null,
       "showCommandTitle": false,
       "startTime": 0,
       "state": "input",
       "streamStates": {},
       "subcommandOptions": {
        "queryPlan": {
         "groups": [
          {
           "column": "sentiment",
           "type": "column"
          }
         ],
         "selects": [
          {
           "column": "sentiment",
           "type": "column"
          },
          {
           "alias": "column_e39fccae64",
           "args": [
            {
             "column": "count",
             "type": "column"
            }
           ],
           "function": "SUM",
           "type": "function"
          }
         ]
        }
       },
       "submitTime": 0,
       "subtype": "tableResultSubCmd.visualization",
       "tableResultIndex": 0,
       "tableResultSettingsMap": {},
       "useConsistentColors": false,
       "version": "CommandV1",
       "width": "auto",
       "workflows": null,
       "xColumns": null,
       "yColumns": null
      }
     },
     "output_type": "display_data"
    }
   ],
   "source": [
    "select * from datamaster.gold.customer_sentiment"
   ]
  }
 ],
 "metadata": {
  "application/vnd.databricks.v1+notebook": {
   "computePreferences": null,
   "dashboards": [],
   "environmentMetadata": {
    "base_environment": "",
    "environment_version": "2"
   },
   "language": "sql",
   "notebookMetadata": {
    "pythonIndentUnit": 4
   },
   "notebookName": "Database objects in databricks",
   "widgets": {}
  },
  "language_info": {
   "name": "sql"
  }
 },
 "nbformat": 4,
 "nbformat_minor": 0
}
